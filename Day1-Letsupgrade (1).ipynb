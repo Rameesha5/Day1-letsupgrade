{
 "cells": [
  {
   "cell_type": "markdown",
   "metadata": {},
   "source": [
    "### Question 1:"
   ]
  },
  {
   "cell_type": "markdown",
   "metadata": {},
   "source": [
    "B. RAINBOW"
   ]
  },
  {
   "cell_type": "markdown",
   "metadata": {},
   "source": [
    "### Question 2: "
   ]
  },
  {
   "cell_type": "code",
   "execution_count": 4,
   "metadata": {},
   "outputs": [
    {
     "name": "stdout",
     "output_type": "stream",
     "text": [
      "LETS UPGRADE\n"
     ]
    }
   ],
   "source": [
    "print (\"LETS UPGRADE\")"
   ]
  },
  {
   "cell_type": "markdown",
   "metadata": {},
   "source": [
    "### Question 3:"
   ]
  },
  {
   "cell_type": "code",
   "execution_count": 12,
   "metadata": {},
   "outputs": [
    {
     "name": "stdout",
     "output_type": "stream",
     "text": [
      "20\n",
      "20\n",
      "Neither\n"
     ]
    }
   ],
   "source": [
    "def Profit(costPrice, sellingPrice) : #fn to calculate profit\n",
    "  \n",
    "    profit = (sellingPrice - costPrice) \n",
    "  \n",
    "    return profit \n",
    "   \n",
    "def Loss(costPrice, sellingPrice) : # Fn to calculate Loss.\n",
    "  \n",
    "    Loss = (costPrice - sellingPrice) \n",
    "  \n",
    "    return Loss \n",
    "  \n",
    "# Driver code \n",
    "if __name__ == \"__main__\" : \n",
    "  \n",
    "    costPrice=float(input())\n",
    "    sellingPrice=float(input())\n",
    "  \n",
    "    if sellingPrice == costPrice : \n",
    "        print(\"Neither\") \n",
    "  \n",
    "    elif sellingPrice > costPrice : \n",
    "        print(Profit(costPrice,  \n",
    "                     sellingPrice), \"Profit\") \n",
    "  \n",
    "    else : \n",
    "        print(Loss(costPrice,  \n",
    "                   sellingPrice), \"Loss\")"
   ]
  },
  {
   "cell_type": "markdown",
   "metadata": {},
   "source": [
    "### Question 4"
   ]
  },
  {
   "cell_type": "code",
   "execution_count": 18,
   "metadata": {},
   "outputs": [
    {
     "name": "stdout",
     "output_type": "stream",
     "text": [
      "20\n",
      "1600\n"
     ]
    }
   ],
   "source": [
    "amt=int(input())\n",
    "conv=amt*80;\n",
    "print(conv)"
   ]
  }
 ],
 "metadata": {
  "kernelspec": {
   "display_name": "Python 3",
   "language": "python",
   "name": "python3"
  },
  "language_info": {
   "codemirror_mode": {
    "name": "ipython",
    "version": 3
   },
   "file_extension": ".py",
   "mimetype": "text/x-python",
   "name": "python",
   "nbconvert_exporter": "python",
   "pygments_lexer": "ipython3",
   "version": "3.7.4"
  }
 },
 "nbformat": 4,
 "nbformat_minor": 2
}
